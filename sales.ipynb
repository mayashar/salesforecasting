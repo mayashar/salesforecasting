{
 "cells": [
  {
   "cell_type": "markdown",
   "metadata": {},
   "source": [
    "# Predict the weekly sales of walmart stores by section using historical sales, markdown data and macro-economic indicators "
   ]
  },
  {
   "cell_type": "markdown",
   "metadata": {},
   "source": [
    "- Price Markdown is a method of reducing the sale price of a product"
   ]
  },
  {
   "cell_type": "code",
   "execution_count": 75,
   "metadata": {},
   "outputs": [],
   "source": [
    "import numpy as np\n",
    "import pandas as pd\n",
    "import os\n",
    "import matplotlib.pyplot as plt\n",
    "import seaborn as sns"
   ]
  },
  {
   "cell_type": "code",
   "execution_count": 76,
   "metadata": {},
   "outputs": [],
   "source": [
    "#setting the working directory\n",
    "os.chdir('C:\\\\Users\\\\mayas\\\\Desktop\\\\salesforecasting')"
   ]
  },
  {
   "cell_type": "code",
   "execution_count": 77,
   "metadata": {},
   "outputs": [],
   "source": [
    "#reading the required data files\n",
    "sales_data = pd.read_csv('sales_data.csv')\n",
    "stores_data = pd.read_csv('stores.csv')\n",
    "features_data = pd.read_csv('features.csv')"
   ]
  },
  {
   "cell_type": "markdown",
   "metadata": {},
   "source": [
    "# Exploratory Data Analysis (EDA)"
   ]
  },
  {
   "cell_type": "code",
   "execution_count": 78,
   "metadata": {},
   "outputs": [
    {
     "data": {
      "text/html": [
       "<div>\n",
       "<style scoped>\n",
       "    .dataframe tbody tr th:only-of-type {\n",
       "        vertical-align: middle;\n",
       "    }\n",
       "\n",
       "    .dataframe tbody tr th {\n",
       "        vertical-align: top;\n",
       "    }\n",
       "\n",
       "    .dataframe thead th {\n",
       "        text-align: right;\n",
       "    }\n",
       "</style>\n",
       "<table border=\"1\" class=\"dataframe\">\n",
       "  <thead>\n",
       "    <tr style=\"text-align: right;\">\n",
       "      <th></th>\n",
       "      <th>Store</th>\n",
       "      <th>Dept</th>\n",
       "      <th>Date</th>\n",
       "      <th>Weekly_Sales</th>\n",
       "      <th>IsHoliday</th>\n",
       "    </tr>\n",
       "  </thead>\n",
       "  <tbody>\n",
       "    <tr>\n",
       "      <th>0</th>\n",
       "      <td>1</td>\n",
       "      <td>1</td>\n",
       "      <td>2010-02-05</td>\n",
       "      <td>24924.50</td>\n",
       "      <td>False</td>\n",
       "    </tr>\n",
       "    <tr>\n",
       "      <th>1</th>\n",
       "      <td>1</td>\n",
       "      <td>1</td>\n",
       "      <td>2010-02-12</td>\n",
       "      <td>46039.49</td>\n",
       "      <td>True</td>\n",
       "    </tr>\n",
       "    <tr>\n",
       "      <th>2</th>\n",
       "      <td>1</td>\n",
       "      <td>1</td>\n",
       "      <td>2010-02-19</td>\n",
       "      <td>41595.55</td>\n",
       "      <td>False</td>\n",
       "    </tr>\n",
       "    <tr>\n",
       "      <th>3</th>\n",
       "      <td>1</td>\n",
       "      <td>1</td>\n",
       "      <td>2010-02-26</td>\n",
       "      <td>19403.54</td>\n",
       "      <td>False</td>\n",
       "    </tr>\n",
       "    <tr>\n",
       "      <th>4</th>\n",
       "      <td>1</td>\n",
       "      <td>1</td>\n",
       "      <td>2010-03-05</td>\n",
       "      <td>21827.90</td>\n",
       "      <td>False</td>\n",
       "    </tr>\n",
       "  </tbody>\n",
       "</table>\n",
       "</div>"
      ],
      "text/plain": [
       "   Store  Dept        Date  Weekly_Sales  IsHoliday\n",
       "0      1     1  2010-02-05      24924.50      False\n",
       "1      1     1  2010-02-12      46039.49       True\n",
       "2      1     1  2010-02-19      41595.55      False\n",
       "3      1     1  2010-02-26      19403.54      False\n",
       "4      1     1  2010-03-05      21827.90      False"
      ]
     },
     "execution_count": 78,
     "metadata": {},
     "output_type": "execute_result"
    }
   ],
   "source": [
    "sales_data.head()"
   ]
  },
  {
   "cell_type": "code",
   "execution_count": 79,
   "metadata": {},
   "outputs": [
    {
     "data": {
      "text/plain": [
       "Store           0\n",
       "Dept            0\n",
       "Date            0\n",
       "Weekly_Sales    0\n",
       "IsHoliday       0\n",
       "dtype: int64"
      ]
     },
     "execution_count": 79,
     "metadata": {},
     "output_type": "execute_result"
    }
   ],
   "source": [
    "sales_data.isna().sum()"
   ]
  },
  {
   "cell_type": "code",
   "execution_count": 80,
   "metadata": {},
   "outputs": [
    {
     "data": {
      "text/plain": [
       "Store             int64\n",
       "Dept              int64\n",
       "Date             object\n",
       "Weekly_Sales    float64\n",
       "IsHoliday          bool\n",
       "dtype: object"
      ]
     },
     "execution_count": 80,
     "metadata": {},
     "output_type": "execute_result"
    }
   ],
   "source": [
    "sales_data.dtypes"
   ]
  },
  {
   "cell_type": "code",
   "execution_count": 81,
   "metadata": {},
   "outputs": [
    {
     "data": {
      "text/plain": [
       "(421570, 5)"
      ]
     },
     "execution_count": 81,
     "metadata": {},
     "output_type": "execute_result"
    }
   ],
   "source": [
    "sales_data.shape"
   ]
  },
  {
   "cell_type": "code",
   "execution_count": 82,
   "metadata": {},
   "outputs": [
    {
     "data": {
      "text/plain": [
       "Store               45\n",
       "Dept                81\n",
       "Date               143\n",
       "Weekly_Sales    359464\n",
       "IsHoliday            2\n",
       "dtype: int64"
      ]
     },
     "execution_count": 82,
     "metadata": {},
     "output_type": "execute_result"
    }
   ],
   "source": [
    "sales_data.nunique()"
   ]
  },
  {
   "cell_type": "code",
   "execution_count": 83,
   "metadata": {},
   "outputs": [
    {
     "data": {
      "text/html": [
       "<div>\n",
       "<style scoped>\n",
       "    .dataframe tbody tr th:only-of-type {\n",
       "        vertical-align: middle;\n",
       "    }\n",
       "\n",
       "    .dataframe tbody tr th {\n",
       "        vertical-align: top;\n",
       "    }\n",
       "\n",
       "    .dataframe thead th {\n",
       "        text-align: right;\n",
       "    }\n",
       "</style>\n",
       "<table border=\"1\" class=\"dataframe\">\n",
       "  <thead>\n",
       "    <tr style=\"text-align: right;\">\n",
       "      <th></th>\n",
       "      <th>Store</th>\n",
       "      <th>Dept</th>\n",
       "      <th>Weekly_Sales</th>\n",
       "    </tr>\n",
       "  </thead>\n",
       "  <tbody>\n",
       "    <tr>\n",
       "      <th>count</th>\n",
       "      <td>421570.000000</td>\n",
       "      <td>421570.000000</td>\n",
       "      <td>421570.000000</td>\n",
       "    </tr>\n",
       "    <tr>\n",
       "      <th>mean</th>\n",
       "      <td>22.200546</td>\n",
       "      <td>44.260317</td>\n",
       "      <td>15981.258123</td>\n",
       "    </tr>\n",
       "    <tr>\n",
       "      <th>std</th>\n",
       "      <td>12.785297</td>\n",
       "      <td>30.492054</td>\n",
       "      <td>22711.183519</td>\n",
       "    </tr>\n",
       "    <tr>\n",
       "      <th>min</th>\n",
       "      <td>1.000000</td>\n",
       "      <td>1.000000</td>\n",
       "      <td>-4988.940000</td>\n",
       "    </tr>\n",
       "    <tr>\n",
       "      <th>25%</th>\n",
       "      <td>11.000000</td>\n",
       "      <td>18.000000</td>\n",
       "      <td>2079.650000</td>\n",
       "    </tr>\n",
       "    <tr>\n",
       "      <th>50%</th>\n",
       "      <td>22.000000</td>\n",
       "      <td>37.000000</td>\n",
       "      <td>7612.030000</td>\n",
       "    </tr>\n",
       "    <tr>\n",
       "      <th>75%</th>\n",
       "      <td>33.000000</td>\n",
       "      <td>74.000000</td>\n",
       "      <td>20205.852500</td>\n",
       "    </tr>\n",
       "    <tr>\n",
       "      <th>max</th>\n",
       "      <td>45.000000</td>\n",
       "      <td>99.000000</td>\n",
       "      <td>693099.360000</td>\n",
       "    </tr>\n",
       "  </tbody>\n",
       "</table>\n",
       "</div>"
      ],
      "text/plain": [
       "               Store           Dept   Weekly_Sales\n",
       "count  421570.000000  421570.000000  421570.000000\n",
       "mean       22.200546      44.260317   15981.258123\n",
       "std        12.785297      30.492054   22711.183519\n",
       "min         1.000000       1.000000   -4988.940000\n",
       "25%        11.000000      18.000000    2079.650000\n",
       "50%        22.000000      37.000000    7612.030000\n",
       "75%        33.000000      74.000000   20205.852500\n",
       "max        45.000000      99.000000  693099.360000"
      ]
     },
     "execution_count": 83,
     "metadata": {},
     "output_type": "execute_result"
    }
   ],
   "source": [
    "sales_data.describe()"
   ]
  },
  {
   "cell_type": "code",
   "execution_count": 84,
   "metadata": {},
   "outputs": [
    {
     "data": {
      "text/plain": [
       "count    421570.000000\n",
       "mean      15981.258123\n",
       "std       22711.183519\n",
       "min       -4988.940000\n",
       "25%        2079.650000\n",
       "50%        7612.030000\n",
       "75%       20205.852500\n",
       "max      693099.360000\n",
       "Name: Weekly_Sales, dtype: float64"
      ]
     },
     "execution_count": 84,
     "metadata": {},
     "output_type": "execute_result"
    }
   ],
   "source": [
    "sales_data['Weekly_Sales'].describe()"
   ]
  },
  {
   "cell_type": "code",
   "execution_count": 85,
   "metadata": {},
   "outputs": [
    {
     "data": {
      "text/plain": [
       "(1358, 5)"
      ]
     },
     "execution_count": 85,
     "metadata": {},
     "output_type": "execute_result"
    }
   ],
   "source": [
    "#now we wanna see if this is a systematic issue or random\n",
    "sales_data_check = sales_data.loc[sales_data['Weekly_Sales'] <= 0]\n",
    "sales_data_check.shape"
   ]
  },
  {
   "cell_type": "code",
   "execution_count": 86,
   "metadata": {},
   "outputs": [
    {
     "data": {
      "text/plain": [
       "Store            45\n",
       "Dept             51\n",
       "Date            143\n",
       "Weekly_Sales    679\n",
       "IsHoliday         2\n",
       "dtype: int64"
      ]
     },
     "execution_count": 86,
     "metadata": {},
     "output_type": "execute_result"
    }
   ],
   "source": [
    "sales_data_check.nunique() # check unique if these are in store and departments"
   ]
  },
  {
   "cell_type": "code",
   "execution_count": 87,
   "metadata": {},
   "outputs": [],
   "source": [
    "#result shows that negative sales exists in most of the store and departments and hence its not system error\n",
    "#but its random issue"
   ]
  },
  {
   "cell_type": "code",
   "execution_count": 88,
   "metadata": {},
   "outputs": [
    {
     "data": {
      "text/plain": [
       "0.003221291837654482"
      ]
     },
     "execution_count": 88,
     "metadata": {},
     "output_type": "execute_result"
    }
   ],
   "source": [
    "#lets check percentage ....if too much then will not drop and if negligible its ok to drop\n",
    "sales_data_check.shape[0]/sales_data.shape[0]"
   ]
  },
  {
   "cell_type": "code",
   "execution_count": 89,
   "metadata": {},
   "outputs": [],
   "source": [
    "# since its negligible so its better drop rather than imputing those negative sales"
   ]
  },
  {
   "cell_type": "code",
   "execution_count": 90,
   "metadata": {},
   "outputs": [],
   "source": [
    "#convert datatypes\n",
    "sales_data['Store'] = sales_data['Store'].astype(str)\n",
    "sales_data['Dept'] = sales_data['Dept'].astype(str)\n",
    "sales_data['IsHoliday'] = sales_data['IsHoliday']*1"
   ]
  },
  {
   "cell_type": "code",
   "execution_count": 91,
   "metadata": {},
   "outputs": [
    {
     "data": {
      "text/plain": [
       "Store            object\n",
       "Dept             object\n",
       "Date             object\n",
       "Weekly_Sales    float64\n",
       "IsHoliday         int32\n",
       "dtype: object"
      ]
     },
     "execution_count": 91,
     "metadata": {},
     "output_type": "execute_result"
    }
   ],
   "source": [
    "sales_data.dtypes #check datatypes...looks good now ... will convert date later"
   ]
  },
  {
   "cell_type": "code",
   "execution_count": 92,
   "metadata": {},
   "outputs": [
    {
     "data": {
      "text/plain": [
       "(420212, 5)"
      ]
     },
     "execution_count": 92,
     "metadata": {},
     "output_type": "execute_result"
    }
   ],
   "source": [
    "#Since it affects a small percentage of the data, lets drop these records\n",
    "sales_data2 = sales_data.loc[sales_data['Weekly_Sales']>0]\n",
    "sales_data2.shape"
   ]
  },
  {
   "cell_type": "code",
   "execution_count": 93,
   "metadata": {},
   "outputs": [
    {
     "data": {
      "text/plain": [
       "Store            object\n",
       "Dept             object\n",
       "Date             object\n",
       "Weekly_Sales    float64\n",
       "IsHoliday         int32\n",
       "dtype: object"
      ]
     },
     "execution_count": 93,
     "metadata": {},
     "output_type": "execute_result"
    }
   ],
   "source": [
    "sales_data2.dtypes"
   ]
  },
  {
   "cell_type": "code",
   "execution_count": 73,
   "metadata": {},
   "outputs": [],
   "source": [
    "#Creating a function that does all of the above tasks \n",
    "def get_basic_stats(dfname):\n",
    "    print(\"Number of rows and columns \" + str(dfname.shape))\n",
    "    print(\"Data Types\")\n",
    "    print(dfname.dtypes.sort_values())\n",
    "    print(\"Missing values in each column\")\n",
    "    print(dfname.isna().sum().sort_values())\n",
    "    print(\"Number of unique values taken by a column\")\n",
    "    print(dfname.nunique().sort_values())\n",
    "    print(\"See some records\")\n",
    "    print(dfname.head())\n",
    "    print(\"Basic Stats for numeric variables\")\n",
    "    print(dfname.describe())"
   ]
  },
  {
   "cell_type": "markdown",
   "metadata": {},
   "source": [
    "### Exploring features_data "
   ]
  },
  {
   "cell_type": "code",
   "execution_count": 95,
   "metadata": {},
   "outputs": [
    {
     "name": "stdout",
     "output_type": "stream",
     "text": [
      "Shape of dataframe is (8190, 12)\n",
      "Below are datatypes of columns in DF\n",
      "IsHoliday          bool\n",
      "Store             int64\n",
      "Temperature     float64\n",
      "Fuel_Price      float64\n",
      "MarkDown1       float64\n",
      "MarkDown2       float64\n",
      "MarkDown3       float64\n",
      "MarkDown4       float64\n",
      "MarkDown5       float64\n",
      "CPI             float64\n",
      "Unemployment    float64\n",
      "Date             object\n",
      "dtype: object\n",
      "Below are missing values in each column\n",
      "Store              0\n",
      "Date               0\n",
      "Temperature        0\n",
      "Fuel_Price         0\n",
      "IsHoliday          0\n",
      "CPI              585\n",
      "Unemployment     585\n",
      "MarkDown5       4140\n",
      "MarkDown1       4158\n",
      "MarkDown3       4577\n",
      "MarkDown4       4726\n",
      "MarkDown2       5269\n",
      "dtype: int64\n",
      "Below are the number of unique values taken by a column\n",
      "IsHoliday          2\n",
      "Store             45\n",
      "Date             182\n",
      "Unemployment     404\n",
      "Fuel_Price      1011\n",
      "CPI             2505\n",
      "MarkDown2       2715\n",
      "MarkDown3       2885\n",
      "MarkDown4       3405\n",
      "MarkDown1       4023\n",
      "MarkDown5       4045\n",
      "Temperature     4178\n",
      "dtype: int64\n",
      "Below are some records in DF\n",
      "   Store        Date  Temperature  Fuel_Price  MarkDown1  MarkDown2  \\\n",
      "0      1  2010-02-05        42.31       2.572        NaN        NaN   \n",
      "1      1  2010-02-12        38.51       2.548        NaN        NaN   \n",
      "2      1  2010-02-19        39.93       2.514        NaN        NaN   \n",
      "3      1  2010-02-26        46.63       2.561        NaN        NaN   \n",
      "4      1  2010-03-05        46.50       2.625        NaN        NaN   \n",
      "\n",
      "   MarkDown3  MarkDown4  MarkDown5         CPI  Unemployment  IsHoliday  \n",
      "0        NaN        NaN        NaN  211.096358         8.106      False  \n",
      "1        NaN        NaN        NaN  211.242170         8.106       True  \n",
      "2        NaN        NaN        NaN  211.289143         8.106      False  \n",
      "3        NaN        NaN        NaN  211.319643         8.106      False  \n",
      "4        NaN        NaN        NaN  211.350143         8.106      False  \n",
      "Basic Stats for numeric variables\n",
      "             Store  Temperature   Fuel_Price      MarkDown1      MarkDown2  \\\n",
      "count  8190.000000  8190.000000  8190.000000    4032.000000    2921.000000   \n",
      "mean     23.000000    59.356198     3.405992    7032.371786    3384.176594   \n",
      "std      12.987966    18.678607     0.431337    9262.747448    8793.583016   \n",
      "min       1.000000    -7.290000     2.472000   -2781.450000    -265.760000   \n",
      "25%      12.000000    45.902500     3.041000    1577.532500      68.880000   \n",
      "50%      23.000000    60.710000     3.513000    4743.580000     364.570000   \n",
      "75%      34.000000    73.880000     3.743000    8923.310000    2153.350000   \n",
      "max      45.000000   101.950000     4.468000  103184.980000  104519.540000   \n",
      "\n",
      "           MarkDown3     MarkDown4      MarkDown5          CPI  Unemployment  \n",
      "count    3613.000000   3464.000000    4050.000000  7605.000000   7605.000000  \n",
      "mean     1760.100180   3292.935886    4132.216422   172.460809      7.826821  \n",
      "std     11276.462208   6792.329861   13086.690278    39.738346      1.877259  \n",
      "min      -179.260000      0.220000    -185.170000   126.064000      3.684000  \n",
      "25%         6.600000    304.687500    1440.827500   132.364839      6.634000  \n",
      "50%        36.260000   1176.425000    2727.135000   182.764003      7.806000  \n",
      "75%       163.150000   3310.007500    4832.555000   213.932412      8.567000  \n",
      "max    149483.310000  67474.850000  771448.100000   228.976456     14.313000  \n"
     ]
    }
   ],
   "source": [
    "get_basic_stats(features_data) "
   ]
  },
  {
   "cell_type": "markdown",
   "metadata": {},
   "source": [
    "### Exploring stores_data"
   ]
  },
  {
   "cell_type": "code",
   "execution_count": 98,
   "metadata": {},
   "outputs": [
    {
     "name": "stdout",
     "output_type": "stream",
     "text": [
      "Shape of dataframe is (45, 3)\n",
      "Below are datatypes of columns in DF\n",
      "Store     int64\n",
      "Size      int64\n",
      "Type     object\n",
      "dtype: object\n",
      "Below are missing values in each column\n",
      "Store    0\n",
      "Type     0\n",
      "Size     0\n",
      "dtype: int64\n",
      "Below are the number of unique values taken by a column\n",
      "Type      3\n",
      "Size     40\n",
      "Store    45\n",
      "dtype: int64\n",
      "Below are some records in DF\n",
      "   Store Type    Size\n",
      "0      1    A  151315\n",
      "1      2    A  202307\n",
      "2      3    B   37392\n",
      "3      4    A  205863\n",
      "4      5    B   34875\n",
      "Basic Stats for numeric variables\n",
      "           Store           Size\n",
      "count  45.000000      45.000000\n",
      "mean   23.000000  130287.600000\n",
      "std    13.133926   63825.271991\n",
      "min     1.000000   34875.000000\n",
      "25%    12.000000   70713.000000\n",
      "50%    23.000000  126512.000000\n",
      "75%    34.000000  202307.000000\n",
      "max    45.000000  219622.000000\n"
     ]
    }
   ],
   "source": [
    "get_basic_stats(stores_data)"
   ]
  },
  {
   "cell_type": "code",
   "execution_count": 100,
   "metadata": {},
   "outputs": [],
   "source": [
    "#coverting variable to correct datatype\n",
    "features_data['Store'] = features_data['Store'].astype(str)\n",
    "stores_data['Store'] = stores_data['Store'].astype(str)"
   ]
  },
  {
   "cell_type": "code",
   "execution_count": null,
   "metadata": {},
   "outputs": [],
   "source": []
  }
 ],
 "metadata": {
  "kernelspec": {
   "display_name": "Python 3",
   "language": "python",
   "name": "python3"
  },
  "language_info": {
   "codemirror_mode": {
    "name": "ipython",
    "version": 3
   },
   "file_extension": ".py",
   "mimetype": "text/x-python",
   "name": "python",
   "nbconvert_exporter": "python",
   "pygments_lexer": "ipython3",
   "version": "3.9.5"
  }
 },
 "nbformat": 4,
 "nbformat_minor": 2
}
